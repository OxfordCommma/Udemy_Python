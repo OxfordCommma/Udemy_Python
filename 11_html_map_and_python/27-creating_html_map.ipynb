{
 "cells": [
  {
   "cell_type": "markdown",
   "metadata": {},
   "source": [
    "## Creando mapas en HTML usando Python (Foliun)"
   ]
  },
  {
   "cell_type": "code",
   "execution_count": 1,
   "metadata": {},
   "outputs": [],
   "source": [
    "import folium"
   ]
  },
  {
   "cell_type": "markdown",
   "metadata": {},
   "source": [
    "Indicamos una variable que guarda al objeto Map. Este objeto contiene una ubicación geográfica.<br><br>\n",
    "También tiene como parámetros el estilo del mapa (pueden ser o por defecto o por atribución de otro creador) y el zoom de inicio.<br><br>\n"
   ]
  },
  {
   "cell_type": "code",
   "execution_count": 26,
   "metadata": {},
   "outputs": [
    {
     "data": {
      "text/html": [
       "<div style=\"width:100%;\"><div style=\"position:relative;width:100%;height:0;padding-bottom:60%;\"><span style=\"color:#565656\">Make this Notebook Trusted to load map: File -> Trust Notebook</span><iframe srcdoc=\"&lt;!DOCTYPE html&gt;\n",
       "&lt;html&gt;\n",
       "&lt;head&gt;\n",
       "    \n",
       "    &lt;meta http-equiv=&quot;content-type&quot; content=&quot;text/html; charset=UTF-8&quot; /&gt;\n",
       "    \n",
       "        &lt;script&gt;\n",
       "            L_NO_TOUCH = false;\n",
       "            L_DISABLE_3D = false;\n",
       "        &lt;/script&gt;\n",
       "    \n",
       "    &lt;style&gt;html, body {width: 100%;height: 100%;margin: 0;padding: 0;}&lt;/style&gt;\n",
       "    &lt;style&gt;#map {position:absolute;top:0;bottom:0;right:0;left:0;}&lt;/style&gt;\n",
       "    &lt;script src=&quot;https://cdn.jsdelivr.net/npm/leaflet@1.9.3/dist/leaflet.js&quot;&gt;&lt;/script&gt;\n",
       "    &lt;script src=&quot;https://code.jquery.com/jquery-3.7.1.min.js&quot;&gt;&lt;/script&gt;\n",
       "    &lt;script src=&quot;https://cdn.jsdelivr.net/npm/bootstrap@5.2.2/dist/js/bootstrap.bundle.min.js&quot;&gt;&lt;/script&gt;\n",
       "    &lt;script src=&quot;https://cdnjs.cloudflare.com/ajax/libs/Leaflet.awesome-markers/2.0.2/leaflet.awesome-markers.js&quot;&gt;&lt;/script&gt;\n",
       "    &lt;link rel=&quot;stylesheet&quot; href=&quot;https://cdn.jsdelivr.net/npm/leaflet@1.9.3/dist/leaflet.css&quot;/&gt;\n",
       "    &lt;link rel=&quot;stylesheet&quot; href=&quot;https://cdn.jsdelivr.net/npm/bootstrap@5.2.2/dist/css/bootstrap.min.css&quot;/&gt;\n",
       "    &lt;link rel=&quot;stylesheet&quot; href=&quot;https://netdna.bootstrapcdn.com/bootstrap/3.0.0/css/bootstrap.min.css&quot;/&gt;\n",
       "    &lt;link rel=&quot;stylesheet&quot; href=&quot;https://cdn.jsdelivr.net/npm/@fortawesome/fontawesome-free@6.2.0/css/all.min.css&quot;/&gt;\n",
       "    &lt;link rel=&quot;stylesheet&quot; href=&quot;https://cdnjs.cloudflare.com/ajax/libs/Leaflet.awesome-markers/2.0.2/leaflet.awesome-markers.css&quot;/&gt;\n",
       "    &lt;link rel=&quot;stylesheet&quot; href=&quot;https://cdn.jsdelivr.net/gh/python-visualization/folium/folium/templates/leaflet.awesome.rotate.min.css&quot;/&gt;\n",
       "    \n",
       "            &lt;meta name=&quot;viewport&quot; content=&quot;width=device-width,\n",
       "                initial-scale=1.0, maximum-scale=1.0, user-scalable=no&quot; /&gt;\n",
       "            &lt;style&gt;\n",
       "                #map_4aaea31fa82c4b2d7834508f7107b1d5 {\n",
       "                    position: relative;\n",
       "                    width: 100.0%;\n",
       "                    height: 100.0%;\n",
       "                    left: 0.0%;\n",
       "                    top: 0.0%;\n",
       "                }\n",
       "                .leaflet-container { font-size: 1rem; }\n",
       "            &lt;/style&gt;\n",
       "        \n",
       "&lt;/head&gt;\n",
       "&lt;body&gt;\n",
       "    \n",
       "    \n",
       "            &lt;div class=&quot;folium-map&quot; id=&quot;map_4aaea31fa82c4b2d7834508f7107b1d5&quot; &gt;&lt;/div&gt;\n",
       "        \n",
       "&lt;/body&gt;\n",
       "&lt;script&gt;\n",
       "    \n",
       "    \n",
       "            var map_4aaea31fa82c4b2d7834508f7107b1d5 = L.map(\n",
       "                &quot;map_4aaea31fa82c4b2d7834508f7107b1d5&quot;,\n",
       "                {\n",
       "                    center: [-34.60445526895378, -58.447629508333414],\n",
       "                    crs: L.CRS.EPSG3857,\n",
       "                    zoom: 6,\n",
       "                    zoomControl: true,\n",
       "                    preferCanvas: false,\n",
       "                }\n",
       "            );\n",
       "\n",
       "            \n",
       "\n",
       "        \n",
       "    \n",
       "            var tile_layer_3bb540687f841308a1cf27efab4513ab = L.tileLayer(\n",
       "                &quot;https://{s}.basemaps.cartocdn.com/light_all/{z}/{x}/{y}{r}.png&quot;,\n",
       "                {&quot;attribution&quot;: &quot;\\u0026copy; \\u003ca href=\\&quot;https://www.openstreetmap.org/copyright\\&quot;\\u003eOpenStreetMap\\u003c/a\\u003e contributors \\u0026copy; \\u003ca href=\\&quot;https://carto.com/attributions\\&quot;\\u003eCARTO\\u003c/a\\u003e&quot;, &quot;detectRetina&quot;: false, &quot;maxNativeZoom&quot;: 20, &quot;maxZoom&quot;: 20, &quot;minZoom&quot;: 0, &quot;noWrap&quot;: false, &quot;opacity&quot;: 1, &quot;subdomains&quot;: &quot;abcd&quot;, &quot;tms&quot;: false}\n",
       "            );\n",
       "        \n",
       "    \n",
       "            tile_layer_3bb540687f841308a1cf27efab4513ab.addTo(map_4aaea31fa82c4b2d7834508f7107b1d5);\n",
       "        \n",
       "    \n",
       "            var feature_group_ad48662b941ad4017580fac416e6a60e = L.featureGroup(\n",
       "                {}\n",
       "            );\n",
       "        \n",
       "    \n",
       "            var marker_9693b7777364f5ed10776600c9cdb2fa = L.marker(\n",
       "                [-34.6, -58.4],\n",
       "                {}\n",
       "            ).addTo(feature_group_ad48662b941ad4017580fac416e6a60e);\n",
       "        \n",
       "    \n",
       "            var icon_9eb453681e99f8fd89bdeff92394dee8 = L.AwesomeMarkers.icon(\n",
       "                {&quot;extraClasses&quot;: &quot;fa-rotate-0&quot;, &quot;icon&quot;: &quot;info-sign&quot;, &quot;iconColor&quot;: &quot;white&quot;, &quot;markerColor&quot;: &quot;green&quot;, &quot;prefix&quot;: &quot;glyphicon&quot;}\n",
       "            );\n",
       "            marker_9693b7777364f5ed10776600c9cdb2fa.setIcon(icon_9eb453681e99f8fd89bdeff92394dee8);\n",
       "        \n",
       "    \n",
       "        var popup_d55c4f11ff570d30b1c18db6e77fbbdd = L.popup({&quot;maxWidth&quot;: &quot;100%&quot;});\n",
       "\n",
       "        \n",
       "            \n",
       "                var html_7021027c92f030d6fea6ec6efa015ddc = $(`&lt;div id=&quot;html_7021027c92f030d6fea6ec6efa015ddc&quot; style=&quot;width: 100.0%; height: 100.0%;&quot;&gt;Soy un Marcador&lt;/div&gt;`)[0];\n",
       "                popup_d55c4f11ff570d30b1c18db6e77fbbdd.setContent(html_7021027c92f030d6fea6ec6efa015ddc);\n",
       "            \n",
       "        \n",
       "\n",
       "        marker_9693b7777364f5ed10776600c9cdb2fa.bindPopup(popup_d55c4f11ff570d30b1c18db6e77fbbdd)\n",
       "        ;\n",
       "\n",
       "        \n",
       "    \n",
       "    \n",
       "            var marker_c964f345081b48bd1bf41837fc2e5141 = L.marker(\n",
       "                [-35.6, -59.4],\n",
       "                {}\n",
       "            ).addTo(feature_group_ad48662b941ad4017580fac416e6a60e);\n",
       "        \n",
       "    \n",
       "            var icon_9cbb8935740b7f556f8b5d98d148cf10 = L.AwesomeMarkers.icon(\n",
       "                {&quot;extraClasses&quot;: &quot;fa-rotate-0&quot;, &quot;icon&quot;: &quot;info-sign&quot;, &quot;iconColor&quot;: &quot;white&quot;, &quot;markerColor&quot;: &quot;green&quot;, &quot;prefix&quot;: &quot;glyphicon&quot;}\n",
       "            );\n",
       "            marker_c964f345081b48bd1bf41837fc2e5141.setIcon(icon_9cbb8935740b7f556f8b5d98d148cf10);\n",
       "        \n",
       "    \n",
       "        var popup_5cd4182f7ea27c4bdcd7449530fffc09 = L.popup({&quot;maxWidth&quot;: &quot;100%&quot;});\n",
       "\n",
       "        \n",
       "            \n",
       "                var html_a107615a7c2228cde9b76c6ea24dc5d9 = $(`&lt;div id=&quot;html_a107615a7c2228cde9b76c6ea24dc5d9&quot; style=&quot;width: 100.0%; height: 100.0%;&quot;&gt;Soy un Marcador&lt;/div&gt;`)[0];\n",
       "                popup_5cd4182f7ea27c4bdcd7449530fffc09.setContent(html_a107615a7c2228cde9b76c6ea24dc5d9);\n",
       "            \n",
       "        \n",
       "\n",
       "        marker_c964f345081b48bd1bf41837fc2e5141.bindPopup(popup_5cd4182f7ea27c4bdcd7449530fffc09)\n",
       "        ;\n",
       "\n",
       "        \n",
       "    \n",
       "    \n",
       "            feature_group_ad48662b941ad4017580fac416e6a60e.addTo(map_4aaea31fa82c4b2d7834508f7107b1d5);\n",
       "        \n",
       "&lt;/script&gt;\n",
       "&lt;/html&gt;\" style=\"position:absolute;width:100%;height:100%;left:0;top:0;border:none !important;\" allowfullscreen webkitallowfullscreen mozallowfullscreen></iframe></div></div>"
      ],
      "text/plain": [
       "<folium.folium.Map at 0x249c43e6ce0>"
      ]
     },
     "execution_count": 26,
     "metadata": {},
     "output_type": "execute_result"
    }
   ],
   "source": [
    "map = folium.Map(location = [-34.60445526895378, -58.447629508333414], tiles = \"cartodb positron\", zoom_start = 6)\n",
    "#map = folium.Map(location = [-34.60445526895378, -58.447629508333414], tiles ='https://{s}.basemaps.cartocdn.com/light_all/{z}/{x}/{y}{r}.png', attr = '&copy; <a href=\"https://www.openstreetmap.org/copyright\">OpenStreetMap</a> contributors &copy; <a href=\"https://carto.com/attributions\">CARTO</a>')\n",
    "\n",
    "fg = folium.FeatureGroup(name=\"My Map\")\n",
    "\n",
    "for coordinates in [[-34.6, -58.4], [-35.6, -59.4]]:\n",
    "    fg.add_child(folium.Marker(location = coordinates, popup=\"Soy un Marcador\", icon=folium.Icon(\"green\")))\n",
    "\n",
    "map.add_child(fg)\n",
    "\n",
    "map"
   ]
  },
  {
   "cell_type": "markdown",
   "metadata": {},
   "source": [
    "Luego de todo se debe guardar en un archivo externo al mapa configurado."
   ]
  },
  {
   "cell_type": "code",
   "execution_count": 20,
   "metadata": {},
   "outputs": [],
   "source": [
    "map.save(\"map1.html\")"
   ]
  }
 ],
 "metadata": {
  "kernelspec": {
   "display_name": "Python 3",
   "language": "python",
   "name": "python3"
  },
  "language_info": {
   "codemirror_mode": {
    "name": "ipython",
    "version": 3
   },
   "file_extension": ".py",
   "mimetype": "text/x-python",
   "name": "python",
   "nbconvert_exporter": "python",
   "pygments_lexer": "ipython3",
   "version": "3.10.7"
  }
 },
 "nbformat": 4,
 "nbformat_minor": 2
}
