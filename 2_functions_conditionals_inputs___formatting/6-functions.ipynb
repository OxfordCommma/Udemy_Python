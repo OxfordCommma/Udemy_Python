{
 "cells": [
  {
   "cell_type": "markdown",
   "metadata": {},
   "source": [
    "## Funciones\n",
    "Las funciones son pedazos de código reutilizables y modificables, en donde se aloja una lógica específica donde introducimos una entrada y nos devuelve una salida (respuesta)."
   ]
  },
  {
   "cell_type": "code",
   "execution_count": null,
   "metadata": {},
   "outputs": [],
   "source": [
    "# Función que muestra el promedio de una lista\n",
    "\n",
    "def mean(mylist):\n",
    "    the_mean = sum(mylist) / len(mylist)\n",
    "    return the_mean\n",
    "\n",
    "print(mean([1, 4, 6]))"
   ]
  },
  {
   "cell_type": "markdown",
   "metadata": {},
   "source": [
    "Vamos a probar hacer una función que calcule una conversión de dinero de dólares a euros."
   ]
  },
  {
   "cell_type": "code",
   "execution_count": null,
   "metadata": {},
   "outputs": [],
   "source": [
    "def convert(amount):\n",
    "    output = amount * 1.75\n",
    "    return output\n",
    "\n",
    "print(convert(10))"
   ]
  },
  {
   "cell_type": "markdown",
   "metadata": {},
   "source": [
    "Ahora, una función que calcule el área de un cuadrado"
   ]
  },
  {
   "cell_type": "code",
   "execution_count": null,
   "metadata": {},
   "outputs": [],
   "source": [
    "def calc_sq_area(side):\n",
    "    sq_area = side ** 2\n",
    "    return sq_area\n",
    "    \n",
    "print(calc_sq_area(5))"
   ]
  },
  {
   "cell_type": "markdown",
   "metadata": {},
   "source": [
    "Función que convierta onzas a mililitros"
   ]
  },
  {
   "cell_type": "code",
   "execution_count": null,
   "metadata": {},
   "outputs": [],
   "source": [
    "def oz_to_ml(ounces):\n",
    "    ml = ounces * 29.57353\n",
    "    return ml\n",
    "    \n",
    "print(oz_to_ml(5))"
   ]
  },
  {
   "cell_type": "markdown",
   "metadata": {},
   "source": [
    "### Usar print o Return?\n",
    "Es mejor usar return para devolver valores que luego queramos manipular, aunque si no es ese el caso, podemos utilizar el print dentro de nuestra función."
   ]
  }
 ],
 "metadata": {
  "kernelspec": {
   "display_name": "Python 3",
   "language": "python",
   "name": "python3"
  },
  "language_info": {
   "codemirror_mode": {
    "name": "ipython",
    "version": 3
   },
   "file_extension": ".py",
   "mimetype": "text/x-python",
   "name": "python",
   "nbconvert_exporter": "python",
   "pygments_lexer": "ipython3",
   "version": "3.10.7"
  }
 },
 "nbformat": 4,
 "nbformat_minor": 2
}
