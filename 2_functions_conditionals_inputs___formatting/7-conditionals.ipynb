{
 "cells": [
  {
   "cell_type": "markdown",
   "metadata": {},
   "source": [
    "## Condicionales"
   ]
  },
  {
   "cell_type": "markdown",
   "metadata": {},
   "source": [
    "Para su introduccion, vamos a querer utilizar la función que calcula el promedio, pero que funcione con otros tipos de datos que no sean listas, como los diccionarios."
   ]
  },
  {
   "cell_type": "code",
   "execution_count": null,
   "metadata": {},
   "outputs": [],
   "source": [
    "monday_temperatures = [8.8, 9.1, 9.9]\n",
    "student_grades = {\"Mary\" : 9.1, \"Sim\" : 8.8, \"John\" : 7.5}\n",
    "\n",
    "def mean(value):\n",
    "\n",
    "    if type(value) == dict:\n",
    "        the_mean = sum(value.values()) / len(value)\n",
    "\n",
    "    else:\n",
    "        the_mean = sum(value) / len(value)\n",
    "\n",
    "    return the_mean\n",
    "\n",
    "print(mean(monday_temperatures))\n",
    "print(mean(student_grades))"
   ]
  },
  {
   "cell_type": "markdown",
   "metadata": {},
   "source": [
    "#### Opcional: uso de la funcion isinstance\n",
    "Esta función compara 2 parámetros: el valor en sí, y el tipo de dato. Si estos concuerdan, es porque es True. Caso contrario, es False."
   ]
  },
  {
   "cell_type": "code",
   "execution_count": null,
   "metadata": {},
   "outputs": [],
   "source": [
    "def mean(value):\n",
    "\n",
    "    if isinstance(value, dict):\n",
    "        the_mean = sum(value.values()) / len(value)\n",
    "\n",
    "    else:\n",
    "        the_mean = sum(value) / len(value)\n",
    "\n",
    "    return the_mean"
   ]
  },
  {
   "cell_type": "markdown",
   "metadata": {},
   "source": [
    "### Múltiple condición\n",
    "You can also check if two conditions are met at the same time using an and operator"
   ]
  },
  {
   "cell_type": "code",
   "execution_count": null,
   "metadata": {},
   "outputs": [],
   "source": [
    "x = 1\n",
    "y = 1\n",
    "     \n",
    "if x == 1 and y==1:\n",
    "    print(\"Yes\")\n",
    "else:\n",
    "    print(\"No\")"
   ]
  },
  {
   "cell_type": "markdown",
   "metadata": {},
   "source": [
    "You can also check if one of two conditions are met using an or operator"
   ]
  },
  {
   "cell_type": "code",
   "execution_count": null,
   "metadata": {},
   "outputs": [],
   "source": [
    "x = 1\n",
    "y = 1\n",
    "     \n",
    "if x == 1 or y==1:\n",
    "    print(\"Yes\")\n",
    "else:\n",
    "    print(\"No\")"
   ]
  },
  {
   "cell_type": "markdown",
   "metadata": {},
   "source": [
    "Ejemplo de prueba: función que devuelve \"Calor\" o \"Frío\" dependiendo de la temperatura ingresada"
   ]
  },
  {
   "cell_type": "code",
   "execution_count": null,
   "metadata": {},
   "outputs": [],
   "source": [
    "def foo(temp):\n",
    "    if temp > 7:\n",
    "        return \"Warm\"\n",
    "    else:\n",
    "        return \"Cold\"\n",
    "\n",
    "print(foo(7))"
   ]
  },
  {
   "cell_type": "markdown",
   "metadata": {},
   "source": [
    "Otro ejemplo: si la cadena pasada como parámetro tiene menos de 8 caracteres, se obtiene Falso. Caso contrario, se obtiene True"
   ]
  },
  {
   "cell_type": "code",
   "execution_count": null,
   "metadata": {},
   "outputs": [],
   "source": [
    "def foo(string):\n",
    "    if len(string) > 8:\n",
    "        return True\n",
    "    else:\n",
    "        return False\n",
    "        \n",
    "print(foo(\"mypass\"))\n",
    "print(foo(\"mylingpassword\"))"
   ]
  },
  {
   "cell_type": "markdown",
   "metadata": {},
   "source": [
    "### Condicional Elif\n"
   ]
  },
  {
   "cell_type": "code",
   "execution_count": null,
   "metadata": {},
   "outputs": [],
   "source": [
    "a = 10\n",
    "b = 5\n",
    "\n",
    "if a > b:\n",
    "    print(\"a es mayor que b.\")\n",
    "elif a < b:\n",
    "    print(\"a es menor que b.\")\n",
    "else:\n",
    "    print(\"a y b son iguales.\")"
   ]
  }
 ],
 "metadata": {
  "kernelspec": {
   "display_name": "Python 3",
   "language": "python",
   "name": "python3"
  },
  "language_info": {
   "codemirror_mode": {
    "name": "ipython",
    "version": 3
   },
   "file_extension": ".py",
   "mimetype": "text/x-python",
   "name": "python",
   "nbconvert_exporter": "python",
   "pygments_lexer": "ipython3",
   "version": "3.10.7"
  }
 },
 "nbformat": 4,
 "nbformat_minor": 2
}
