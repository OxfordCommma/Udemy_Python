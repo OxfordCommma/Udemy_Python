{
 "cells": [
  {
   "cell_type": "markdown",
   "metadata": {},
   "source": [
    "## Tipos de formateo de cadenas"
   ]
  },
  {
   "cell_type": "code",
   "execution_count": 1,
   "metadata": {},
   "outputs": [
    {
     "name": "stdout",
     "output_type": "stream",
     "text": [
      "Hello Rama\n"
     ]
    }
   ],
   "source": [
    "user_input = input(\"Enter your name: \")\n",
    "\n",
    "message = \"Hello %s\" % user_input #Python 3.6 y anteriores\n",
    "message = f\"Hello {user_input}\" #Python 3.6 y superiores\n",
    "\n",
    "print(message)"
   ]
  },
  {
   "cell_type": "markdown",
   "metadata": {},
   "source": [
    "### Formateo múltiple"
   ]
  },
  {
   "cell_type": "code",
   "execution_count": 2,
   "metadata": {},
   "outputs": [
    {
     "name": "stdout",
     "output_type": "stream",
     "text": [
      "Hello Rama farias. What's uo today?\n"
     ]
    }
   ],
   "source": [
    "name = input(\"Enter your name: \")\n",
    "surname = input(\"Enter your surname: \")\n",
    "when = \"today\"\n",
    "\n",
    "message = \"Hello %s %s\" % (name, surname)\n",
    "message = f\"Hello {name} {surname}. What's up {when}?\"\n",
    "\n",
    "print(message)"
   ]
  },
  {
   "cell_type": "markdown",
   "metadata": {},
   "source": [
    "Existe también otra forma de formatear, usando otra función."
   ]
  },
  {
   "cell_type": "code",
   "execution_count": null,
   "metadata": {},
   "outputs": [],
   "source": [
    "name = \"John\"\n",
    "surname = \"Smith\"\n",
    "     \n",
    "message = \"Your name is {}. Your surname is {}\".format(name, surname)\n",
    "print(message)"
   ]
  },
  {
   "cell_type": "markdown",
   "metadata": {},
   "source": [
    "Usando formateo en una función"
   ]
  },
  {
   "cell_type": "code",
   "execution_count": 3,
   "metadata": {},
   "outputs": [
    {
     "name": "stdout",
     "output_type": "stream",
     "text": [
      "Hi Ramiro\n"
     ]
    }
   ],
   "source": [
    "def person_name(name):\n",
    "    uppercase_name = name.capitalize()\n",
    "    return f\"Hi {uppercase_name}\"\n",
    "    \n",
    "print(person_name(\"ramiro\"))"
   ]
  }
 ],
 "metadata": {
  "kernelspec": {
   "display_name": "Python 3",
   "language": "python",
   "name": "python3"
  },
  "language_info": {
   "codemirror_mode": {
    "name": "ipython",
    "version": 3
   },
   "file_extension": ".py",
   "mimetype": "text/x-python",
   "name": "python",
   "nbconvert_exporter": "python",
   "pygments_lexer": "ipython3",
   "version": "3.10.7"
  }
 },
 "nbformat": 4,
 "nbformat_minor": 2
}
