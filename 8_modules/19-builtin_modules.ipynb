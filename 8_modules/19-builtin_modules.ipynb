{
 "cells": [
  {
   "cell_type": "markdown",
   "metadata": {},
   "source": [
    "## Módulos\n",
    "Es un archivo que contiene código Python reutilizable. Puede contener funciones, variables y clases que puedes importar en otros archivos para utilizar su funcionalidad sin tener que escribir el código nuevamente. \n"
   ]
  },
  {
   "cell_type": "markdown",
   "metadata": {},
   "source": [
    "### Modulos BuiltIn\n",
    "Son módulos integrados que proporcionan funcionalidades esenciales y están disponibles para su uso directo sin necesidad de instalación adicional. Estos módulos son parte de la biblioteca estándar de Python, como \"time\".<br>\n",
    "Están escritos en C."
   ]
  },
  {
   "cell_type": "code",
   "execution_count": null,
   "metadata": {},
   "outputs": [],
   "source": [
    "import time\n",
    "\n",
    "while True:\n",
    "    with open(\"files/vegetables.txt\") as file:\n",
    "        print(file.read())\n",
    "        time.sleep(10)"
   ]
  },
  {
   "cell_type": "markdown",
   "metadata": {},
   "source": [
    "### Modulos estándar de Python\n",
    "Son módulos que están escritos dentro de un archivo.py que vienen con la instalación de Python, como OS."
   ]
  },
  {
   "cell_type": "code",
   "execution_count": null,
   "metadata": {},
   "outputs": [],
   "source": [
    "import time\n",
    "import os\n",
    "\n",
    "while True:\n",
    "    if os.path.exists(\"files/vegetables.txt\"):\n",
    "        with open(\"files/vegetables.txt\") as file:\n",
    "            print(file.read())\n",
    "    else:\n",
    "        print(\"File does not exist.\")\n",
    "    time.sleep(10)"
   ]
  },
  {
   "cell_type": "markdown",
   "metadata": {},
   "source": [
    "### Modulos de terceros\n",
    "Son módulos estándar que se deben instalar aparte. El método es usar \"pip install (modulo)\". Tal como se ha hecho con Pandas."
   ]
  },
  {
   "cell_type": "code",
   "execution_count": null,
   "metadata": {},
   "outputs": [],
   "source": [
    "import time\n",
    "import os\n",
    "import pandas\n",
    "\n",
    "while True:\n",
    "    if os.path.exists(\"files/temps_today.csv\"):\n",
    "        data = pandas.read_csv(\"files/temps_today.csv\")\n",
    "        print(data.mean())\n",
    "        #print(data.mean()[\"st1\"])\n",
    "    else:\n",
    "        print(\"File does not exist.\")\n",
    "    time.sleep(10)"
   ]
  }
 ],
 "metadata": {
  "kernelspec": {
   "display_name": "Python 3",
   "language": "python",
   "name": "python3"
  },
  "language_info": {
   "codemirror_mode": {
    "name": "ipython",
    "version": 3
   },
   "file_extension": ".py",
   "mimetype": "text/x-python",
   "name": "python",
   "nbconvert_exporter": "python",
   "pygments_lexer": "ipython3",
   "version": "3.10.7"
  }
 },
 "nbformat": 4,
 "nbformat_minor": 2
}
