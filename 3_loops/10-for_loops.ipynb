{
 "cells": [
  {
   "cell_type": "markdown",
   "metadata": {},
   "source": [
    "## Bucles\n",
    "Un bucle for es útil para ejecutar repetidamente un bloque de código. Son utilizadas con tipos de datos complejos, en donde en cada iteración, se trabaja con un elemento de dicha lista/diccionario/tupla/cadena, etc."
   ]
  },
  {
   "cell_type": "markdown",
   "metadata": {},
   "source": [
    "Haremos un código que haga el redondeo de cada elemento de una lista."
   ]
  },
  {
   "cell_type": "code",
   "execution_count": null,
   "metadata": {},
   "outputs": [],
   "source": [
    "monday_temperature = [9.1, 8.8, 7.6]\n",
    "\n",
    "for temp in monday_temperature:\n",
    "    print(round(temp))\n",
    "\n",
    "for letter in \"hello\":\n",
    "    print(letter.title())"
   ]
  },
  {
   "cell_type": "markdown",
   "metadata": {},
   "source": [
    "Otro ejemplo, con condicional"
   ]
  },
  {
   "cell_type": "code",
   "execution_count": null,
   "metadata": {},
   "outputs": [],
   "source": [
    "colors = [11, 34, 98, 43, 45, 54, 54]\n",
    "\n",
    "for color in colors:\n",
    "    if color > 50:\n",
    "        print(color)"
   ]
  },
  {
   "cell_type": "code",
   "execution_count": null,
   "metadata": {},
   "outputs": [],
   "source": [
    "colors = [11, 34.1, 98.2, 43, 45.1, 54, 54]\n",
    "\n",
    "for number in colors:\n",
    "    if isinstance(number, int) and number > 50:\n",
    "        print(number)"
   ]
  },
  {
   "cell_type": "markdown",
   "metadata": {},
   "source": [
    "Usando un bucle y una función"
   ]
  },
  {
   "cell_type": "code",
   "execution_count": 1,
   "metadata": {},
   "outputs": [
    {
     "name": "stdout",
     "output_type": "stream",
     "text": [
      "282.25\n",
      "281.95\n",
      "3.0\n"
     ]
    }
   ],
   "source": [
    "def celsius_to_kelvin(cels):\n",
    "    return cels + 273.15\n",
    "     \n",
    "for temperature in [9.1, 8.8, -270.15]:\n",
    "    print(celsius_to_kelvin(temperature))"
   ]
  },
  {
   "cell_type": "markdown",
   "metadata": {},
   "source": [
    "### Bucles utilizando diccionarios"
   ]
  },
  {
   "cell_type": "code",
   "execution_count": null,
   "metadata": {},
   "outputs": [],
   "source": [
    "student_grades = {\"Marry\" : 9.1, \"Sim\": 8.8, \"Jhon\" : 7.5}\n",
    "\n",
    "for grades in student_grades.items():\n",
    "    print(grades)\n",
    "\n",
    "for grades in student_grades.keys():\n",
    "    print(grades)\n",
    "\n",
    "for grades in student_grades.values():\n",
    "    print(grades)"
   ]
  },
  {
   "cell_type": "markdown",
   "metadata": {},
   "source": [
    "Utilizando bucles con formateo."
   ]
  },
  {
   "cell_type": "code",
   "execution_count": null,
   "metadata": {},
   "outputs": [],
   "source": [
    "phone_numbers = {\"John\": \"+37682929928\", \"Marry\": \"+423998200919\"}\n",
    "     \n",
    "for pair in phone_numbers.items():\n",
    "    print(f\"{pair[0]} has as phone number {pair[1]}\")\n",
    "\n",
    "print(\"------------------------\")\n",
    "     \n",
    "for key, value in phone_numbers.items():\n",
    "    print(f\"{key} has as phone number {value}\")"
   ]
  },
  {
   "cell_type": "markdown",
   "metadata": {},
   "source": [
    "Bucle que reemplaza valores de una cadena."
   ]
  },
  {
   "cell_type": "code",
   "execution_count": null,
   "metadata": {},
   "outputs": [],
   "source": [
    "phone_numbers = {\"John Smith\": \"+37682929928\", \"Marry Simpons\": \"+423998200919\"}\n",
    "\n",
    "for value in phone_numbers.values():\n",
    "    print(value.replace(\"+\", \"00\"))"
   ]
  }
 ],
 "metadata": {
  "kernelspec": {
   "display_name": "Python 3",
   "language": "python",
   "name": "python3"
  },
  "language_info": {
   "codemirror_mode": {
    "name": "ipython",
    "version": 3
   },
   "file_extension": ".py",
   "mimetype": "text/x-python",
   "name": "python",
   "nbconvert_exporter": "python",
   "pygments_lexer": "ipython3",
   "version": "3.11.7"
  }
 },
 "nbformat": 4,
 "nbformat_minor": 2
}
