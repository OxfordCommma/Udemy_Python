{
 "cells": [
  {
   "cell_type": "markdown",
   "metadata": {},
   "source": [
    "### A partir de 5 imagenes, vamos a cambiarles la proporción y guardarlo en el mismo directorio"
   ]
  },
  {
   "cell_type": "code",
   "execution_count": 1,
   "metadata": {},
   "outputs": [],
   "source": [
    "import cv2\n",
    "import glob\n",
    "\n",
    "images=glob.glob(\"*.jpg\") # busco los archivos que terminen en .jpg y los guardo en una lista\n",
    "\n",
    "for image in images:\n",
    "    img=cv2.imread(image,0) # Leo la imagen BN\n",
    "    re=cv2.resize(img,(100,100)) # Cambio la proporción a 100x100\n",
    "    cv2.imshow(\"Hey\",re) # Lo muestro en pantalla\n",
    "    cv2.waitKey(500) #durante 500 milisegundos \n",
    "    cv2.destroyAllWindows() # cierro la ventana\n",
    "    cv2.imwrite(\"resized_\"+image,re) # lo guardo en el directorio con el mismo nombre + \"resized_\""
   ]
  }
 ],
 "metadata": {
  "kernelspec": {
   "display_name": "Python 3",
   "language": "python",
   "name": "python3"
  },
  "language_info": {
   "codemirror_mode": {
    "name": "ipython",
    "version": 3
   },
   "file_extension": ".py",
   "mimetype": "text/x-python",
   "name": "python",
   "nbconvert_exporter": "python",
   "pygments_lexer": "ipython3",
   "version": "3.10.7"
  }
 },
 "nbformat": 4,
 "nbformat_minor": 2
}
