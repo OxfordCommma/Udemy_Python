{
 "cells": [
  {
   "cell_type": "markdown",
   "metadata": {},
   "source": [
    "## Cargar, mostrar, proporcionar y crear imagenes"
   ]
  },
  {
   "cell_type": "code",
   "execution_count": 1,
   "metadata": {},
   "outputs": [
    {
     "name": "stdout",
     "output_type": "stream",
     "text": [
      "<class 'numpy.ndarray'>\n",
      "[[14 18 14 ... 20 15 16]\n",
      " [12 16 12 ... 20 15 17]\n",
      " [12 13 16 ... 14 24 21]\n",
      " ...\n",
      " [ 0  0  0 ...  5  8 14]\n",
      " [ 0  0  0 ...  2  3  9]\n",
      " [ 1  1  1 ...  1  1  3]]\n",
      "(1485, 990)\n",
      "2\n"
     ]
    }
   ],
   "source": [
    "import cv2\n",
    "\n",
    "img = cv2.imread(\"galaxy.jpg\", 0) # 0 para BN, 1 para RGB, -1 para RGB Transparente\n",
    "print(type(img)) # el tipo es un array de Numpy\n",
    "print(img) # nos imprime un array\n",
    "print(img.shape) # la resolucion\n",
    "print(img.ndim) # dimensiones"
   ]
  },
  {
   "cell_type": "markdown",
   "metadata": {},
   "source": [
    "### Leer imagen"
   ]
  },
  {
   "cell_type": "code",
   "execution_count": 2,
   "metadata": {},
   "outputs": [],
   "source": [
    "cv2.imshow(\"Galaxy\", img) # Visualizar la imagen. Parametros: NombreTitulo, Array del archivo\n",
    "cv2.waitKey(0)\n",
    "cv2.destroyAllWindows()"
   ]
  },
  {
   "cell_type": "markdown",
   "metadata": {},
   "source": [
    "### Cambiar la proporción de una imagen"
   ]
  },
  {
   "cell_type": "code",
   "execution_count": 3,
   "metadata": {},
   "outputs": [],
   "source": [
    "resized_image = cv2.resize(img, (int(img.shape[1]/2), int(img.shape[0]/2))) # parametros: array, (height, widht)\n",
    "cv2.imshow(\"Galaxy\", resized_image)\n",
    "cv2.waitKey(0)\n",
    "cv2.destroyAllWindows()"
   ]
  },
  {
   "cell_type": "markdown",
   "metadata": {},
   "source": [
    "### Crear una imagen (a partir de la imagen resized)"
   ]
  },
  {
   "cell_type": "code",
   "execution_count": 4,
   "metadata": {},
   "outputs": [
    {
     "data": {
      "text/plain": [
       "True"
      ]
     },
     "execution_count": 4,
     "metadata": {},
     "output_type": "execute_result"
    }
   ],
   "source": [
    "cv2.imwrite(\"Galaxy_resized.jpg\", resized_image)"
   ]
  }
 ],
 "metadata": {
  "kernelspec": {
   "display_name": "Python 3",
   "language": "python",
   "name": "python3"
  },
  "language_info": {
   "codemirror_mode": {
    "name": "ipython",
    "version": 3
   },
   "file_extension": ".py",
   "mimetype": "text/x-python",
   "name": "python",
   "nbconvert_exporter": "python",
   "pygments_lexer": "ipython3",
   "version": "3.10.7"
  }
 },
 "nbformat": 4,
 "nbformat_minor": 2
}
