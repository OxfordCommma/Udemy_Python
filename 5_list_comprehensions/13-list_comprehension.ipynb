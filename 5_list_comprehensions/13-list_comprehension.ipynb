{
 "cells": [
  {
   "cell_type": "markdown",
   "metadata": {},
   "source": [
    "## List comprehension\n",
    "Tenemos una lista, y a partir de ella (realizando cálculos con ella), queremos generar otra lista diferente. Existe una forma intuitiva."
   ]
  },
  {
   "cell_type": "code",
   "execution_count": null,
   "metadata": {},
   "outputs": [],
   "source": [
    "temps = [221, 234, 340, 230]\n",
    "\n",
    "new_temps = []\n",
    "for temp in temps:\n",
    "    new_temps.append(temp / 10)\n",
    "\n",
    "print(new_temps)"
   ]
  },
  {
   "cell_type": "markdown",
   "metadata": {},
   "source": [
    "Pero existe otra forma más limpia de generar dicha lista, en una sola línea. La lista será generada dinámicamente."
   ]
  },
  {
   "cell_type": "code",
   "execution_count": null,
   "metadata": {},
   "outputs": [],
   "source": [
    "temps = [221, 234, 340, 230]\n",
    "\n",
    "new_temps = [temp / 10 for temp in temps]\n",
    "\n",
    "print(new_temps)"
   ]
  },
  {
   "cell_type": "markdown",
   "metadata": {},
   "source": [
    "En este caso, en meteorología y en el uso de la temperatura , para ahorrar espacio (los decimales ocupan más espacio), se guardan los datos como enteros. La comprensión de listas hace que la generación de una nueva lista sea más rápida y dinámica."
   ]
  },
  {
   "cell_type": "markdown",
   "metadata": {},
   "source": [
    "### Comprensión de listas con un condicional\n",
    "\n",
    "Tenemos la misma lista que antes, solo que hay un número negativo, al cual no queremos dividir. La condición puede ir dentro de la comprensión de lista."
   ]
  },
  {
   "cell_type": "code",
   "execution_count": null,
   "metadata": {},
   "outputs": [],
   "source": [
    "temps = [221, 234, 340, -9999, 230]\n",
    "\n",
    "new_temps = [temp / 10 for temp in temps if temp != -9999]\n",
    "\n",
    "print(new_temps)"
   ]
  },
  {
   "cell_type": "markdown",
   "metadata": {},
   "source": [
    "Función que toma como parámetro una lista que contiene enteros y cadenas. La función solo retorna la lista sólo con los enteros."
   ]
  },
  {
   "cell_type": "code",
   "execution_count": null,
   "metadata": {},
   "outputs": [],
   "source": [
    "def foo(lista):\n",
    "    \n",
    "    new_list = [number for number in lista if isinstance(number, int)]\n",
    "    return new_list\n",
    "\n",
    "lista = [96, 49, 30, \"Hello\", 693, \"bye\", 3123]\n",
    "\n",
    "print(foo(lista))"
   ]
  },
  {
   "cell_type": "markdown",
   "metadata": {},
   "source": [
    "Otros ejemplos"
   ]
  },
  {
   "cell_type": "code",
   "execution_count": 1,
   "metadata": {},
   "outputs": [
    {
     "name": "stdout",
     "output_type": "stream",
     "text": [
      "[96, 49, 693]\n"
     ]
    }
   ],
   "source": [
    "def foo(lista):\n",
    "    \n",
    "    new_list = [number for number in lista if number > 0]\n",
    "    return new_list\n",
    "\n",
    "lista = [96, 49, -30, 693, -3123]\n",
    "\n",
    "print(foo(lista))"
   ]
  },
  {
   "cell_type": "code",
   "execution_count": 17,
   "metadata": {},
   "outputs": [
    {
     "name": "stdout",
     "output_type": "stream",
     "text": [
      "[2, 20]\n"
     ]
    }
   ],
   "source": [
    "lista = [i * 2 for i in [1, -2, 10] if i > 0]\n",
    "\n",
    "print(lista)"
   ]
  },
  {
   "cell_type": "markdown",
   "metadata": {},
   "source": [
    "Este ejemplo usa una forma más abreviada (no guarda la nueva lista en una variable). Función que toma como parámetro una lista con decimales como cadenas. Guarda los decimales convertidos en la nueva lista y suma la lista."
   ]
  },
  {
   "cell_type": "code",
   "execution_count": null,
   "metadata": {},
   "outputs": [],
   "source": [
    "def foo(lista):\n",
    "    \n",
    "    return sum([float(i) for i in lista])\n",
    "\n",
    "lista = [\"5.7\", \"2.32\", \"5.4\"]\n",
    "\n",
    "print(foo(lista))"
   ]
  },
  {
   "cell_type": "markdown",
   "metadata": {},
   "source": [
    "### List comprehension with if-else conditional\n",
    "Supongamos que cuando el bucle llegue a -9999, no quiero que lo ignore, sino que cuando llegue alli, guarde un 0. El orden de la sentencia va a cambiar de orden."
   ]
  },
  {
   "cell_type": "code",
   "execution_count": null,
   "metadata": {},
   "outputs": [],
   "source": [
    "temps = [221, 234, 340, -9999, 230]\n",
    "\n",
    "new_temps = [temp / 10 if temp != -9999 else 0 for temp in temps]\n",
    "\n",
    "print(new_temps)"
   ]
  }
 ],
 "metadata": {
  "kernelspec": {
   "display_name": "Python 3",
   "language": "python",
   "name": "python3"
  },
  "language_info": {
   "codemirror_mode": {
    "name": "ipython",
    "version": 3
   },
   "file_extension": ".py",
   "mimetype": "text/x-python",
   "name": "python",
   "nbconvert_exporter": "python",
   "pygments_lexer": "ipython3",
   "version": "3.11.7"
  }
 },
 "nbformat": 4,
 "nbformat_minor": 2
}
