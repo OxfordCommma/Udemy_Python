{
 "cells": [
  {
   "cell_type": "markdown",
   "metadata": {},
   "source": [
    "Objetivo: realizar un programa que le pida al usuario escribir oraciones de forma continua. El programa se detiene cuando el usuario ingresa \"/end\".<br>\n",
    "Luego, el programa muestra las oraciones en una sola. La diferencia es que:<br>\n",
    "- Cada oración estará capitalizada\n",
    "- Cada oración terminará con un punto."
   ]
  },
  {
   "cell_type": "code",
   "execution_count": 17,
   "metadata": {},
   "outputs": [
    {
     "name": "stdout",
     "output_type": "stream",
     "text": [
      "Hola. Sdask. Asdlk;sa.\n"
     ]
    }
   ],
   "source": [
    "def sentence_maker(phrase):\n",
    "\n",
    "    interrogatives = (\"how\", \"what\", \"why\") #if the sentence starts with these words, the script will take a different path\n",
    "\n",
    "    capitalized = phrase.capitalize() #it capitalize the first letter of the sentence\n",
    "    \n",
    "    if phrase.startswith(interrogatives):\n",
    "        return f\"{capitalized}?\" # It's an interrogative sentence\n",
    "    \n",
    "    else:\n",
    "        return f\"{capitalized}.\" # It's a normal sentence\n",
    "\n",
    "#-----------------------------------------------------------------------------\n",
    "\n",
    "paragraph = [] # Variable that holds the user-entered inputs\n",
    "\n",
    "while True:\n",
    "    user_input = input(\"Say something: \")\n",
    "\n",
    "    if user_input == \"/end\": #if the user enters '/end', the loop will break\n",
    "        break\n",
    "\n",
    "    else:\n",
    "        paragraph.append(sentence_maker(user_input)) # append the modified user's input on the list\n",
    " \n",
    "print(\" \".join(paragraph)) # finally, the script will print all the valid user-entered inputs "
   ]
  },
  {
   "cell_type": "code",
   "execution_count": null,
   "metadata": {},
   "outputs": [],
   "source": []
  }
 ],
 "metadata": {
  "kernelspec": {
   "display_name": "Python 3",
   "language": "python",
   "name": "python3"
  },
  "language_info": {
   "codemirror_mode": {
    "name": "ipython",
    "version": 3
   },
   "file_extension": ".py",
   "mimetype": "text/x-python",
   "name": "python",
   "nbconvert_exporter": "python",
   "pygments_lexer": "ipython3",
   "version": "3.10.7"
  }
 },
 "nbformat": 4,
 "nbformat_minor": 2
}
