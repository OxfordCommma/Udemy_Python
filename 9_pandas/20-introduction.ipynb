{
 "cells": [
  {
   "cell_type": "markdown",
   "metadata": {},
   "source": [
    "## Pandas\n",
    "Biblioteca que proporciona estructuras de datos y herramientas de análisis de datos en Python.\n",
    "\n",
    "Nos permite cargar datos de diferentes fuentes de Python y luego usar código para analizar datos y producir resultados en diferentes formatos (tablas y hasta visualización con Bokeh).\n",
    "\n",
    "Con pandas, una estructura de datos es llamada DataFrame, un objeto especial que contendrá los datos"
   ]
  },
  {
   "cell_type": "code",
   "execution_count": 1,
   "metadata": {},
   "outputs": [
    {
     "name": "stdout",
     "output_type": "stream",
     "text": [
      "    0   1   2\n",
      "0   2   4   6\n",
      "1  10  20  30\n"
     ]
    }
   ],
   "source": [
    "import pandas\n",
    "\n",
    "df1 = pandas.DataFrame([[2, 4, 6],[10, 20, 30]])\n",
    "\n",
    "print(df1)"
   ]
  },
  {
   "cell_type": "markdown",
   "metadata": {},
   "source": [
    "Como vemos, tiene un Eje Y y un Eje X, que indican las posiciones de cada fila (hay 2 filas). Estos índices son números (por default, a partir de 0), y son modificables.\n",
    "- Si hacemos eso, debemos indicar cuantos atributos en una fila hay. Si el dataframe tiene 3 campos, debemos indicar estos 3\n",
    "- Lo mismo para las filas, pero no es usual ya que pueden ser miles"
   ]
  },
  {
   "cell_type": "code",
   "execution_count": null,
   "metadata": {},
   "outputs": [],
   "source": [
    "df1 = pandas.DataFrame([[2, 4, 6],[10, 20, 30]], columns = [\"price\", \"age\", \"value\"], index = [\"first\", \"second\"])\n",
    "\n",
    "print(df1)"
   ]
  },
  {
   "cell_type": "markdown",
   "metadata": {},
   "source": [
    "Incluso podemos trabajar con diccionarios, donde cada clave será un campo. En caso de que las filas no coincidan, aparecerá \"NaN\""
   ]
  },
  {
   "cell_type": "code",
   "execution_count": 4,
   "metadata": {},
   "outputs": [
    {
     "name": "stdout",
     "output_type": "stream",
     "text": [
      "   Name  Surname\n",
      "0  John  Jhonies\n",
      "1  Jack      NaN\n"
     ]
    }
   ],
   "source": [
    "df2 = pandas.DataFrame([{\"Name\": \"John\", \"Surname\" : \"Jhonies\"}, {\"Name\" : \"Jack\"}])\n",
    "\n",
    "print(df2)"
   ]
  },
  {
   "cell_type": "code",
   "execution_count": 3,
   "metadata": {},
   "outputs": [
    {
     "name": "stdout",
     "output_type": "stream",
     "text": [
      "    Name  Surname\n",
      "0   John  Jhonies\n",
      "1  Paula    Pears\n",
      "2   Mark     Cool\n"
     ]
    }
   ],
   "source": [
    "data = {\"Name\":[\"John\", \"Paula\", \"Mark\"], \"Surname\":[\"Jhonies\", \"Pears\", \"Cool\"]}\n",
    "df2 = pandas.DataFrame(data)\n",
    "print(df2)"
   ]
  },
  {
   "cell_type": "markdown",
   "metadata": {},
   "source": [
    "Como dijimos, estamos trabajando con un tipo de dato especial (dataframe), el cual tiene métodos interesantes. Usemos el método mean()"
   ]
  },
  {
   "cell_type": "code",
   "execution_count": null,
   "metadata": {},
   "outputs": [],
   "source": [
    "print(type(df1))\n",
    "print(dir(df1))"
   ]
  },
  {
   "cell_type": "code",
   "execution_count": null,
   "metadata": {},
   "outputs": [],
   "source": [
    "print(df1.mean())\n",
    "print(df1.mean().mean())\n",
    "\n",
    "print(type(df1.mean()))"
   ]
  },
  {
   "cell_type": "markdown",
   "metadata": {},
   "source": [
    "Con este ejemplo vemos que los dataframes están hechos de Series. Estos también pueden usar algunos métodos de dataframe"
   ]
  },
  {
   "cell_type": "code",
   "execution_count": 25,
   "metadata": {},
   "outputs": [
    {
     "name": "stdout",
     "output_type": "stream",
     "text": [
      "first      2\n",
      "second    10\n",
      "Name: price, dtype: int64\n",
      "6.0\n",
      "10\n"
     ]
    }
   ],
   "source": [
    "print(df1.price) # Esto es una Serie\n",
    "print(df1.price.mean())\n",
    "print(df1.price.max())"
   ]
  }
 ],
 "metadata": {
  "kernelspec": {
   "display_name": "Python 3",
   "language": "python",
   "name": "python3"
  },
  "language_info": {
   "codemirror_mode": {
    "name": "ipython",
    "version": 3
   },
   "file_extension": ".py",
   "mimetype": "text/x-python",
   "name": "python",
   "nbconvert_exporter": "python",
   "pygments_lexer": "ipython3",
   "version": "3.10.7"
  }
 },
 "nbformat": 4,
 "nbformat_minor": 2
}
