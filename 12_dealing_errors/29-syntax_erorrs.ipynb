{
 "cells": [
  {
   "cell_type": "markdown",
   "metadata": {},
   "source": [
    "## Introducción"
   ]
  },
  {
   "cell_type": "markdown",
   "metadata": {},
   "source": [
    "En python existen 3 tipos de errores:\n",
    "- Errores de sintaxis\n",
    "- Exepciones"
   ]
  },
  {
   "cell_type": "markdown",
   "metadata": {},
   "source": [
    "### Errores de sintaxis\n",
    "Este tipo de de errores ocurre cuando en determinada línea de código, hay una discrepancia en la sintaxis. Es decir, que está mal escrita hablando desde la sintaxis (como la formulación de las \"palabras\" de la línea).<br><br>\n",
    "Para que una función corra de manera esperada, debe tener una sintaxis clara, objetiva y que siga las reglas del lenguaje de programación. Descuidos como la falta de caracteres (ej, los corchetes) o el cambio de orden en la correcta sintaxis hace que el intérprete no entienda lo que queremos hacer.   "
   ]
  },
  {
   "cell_type": "code",
   "execution_count": null,
   "metadata": {},
   "outputs": [],
   "source": [
    "int 9"
   ]
  },
  {
   "cell_type": "code",
   "execution_count": null,
   "metadata": {},
   "outputs": [],
   "source": [
    "print 3"
   ]
  },
  {
   "cell_type": "code",
   "execution_count": null,
   "metadata": {},
   "outputs": [],
   "source": [
    "9 int"
   ]
  },
  {
   "cell_type": "markdown",
   "metadata": {},
   "source": [
    "Es necesario decir que los errores de sintaxis <b>son los que se advierten primero</b>, antes que algún otro tipo de error. Además, si llega a haber un error de sintaxis, <b>no se ejecuta nada del código anterior</b>, ni aunque haya un print correcto."
   ]
  }
 ],
 "metadata": {
  "kernelspec": {
   "display_name": "Python 3",
   "language": "python",
   "name": "python3"
  },
  "language_info": {
   "codemirror_mode": {
    "name": "ipython",
    "version": 3
   },
   "file_extension": ".py",
   "mimetype": "text/x-python",
   "name": "python",
   "nbconvert_exporter": "python",
   "pygments_lexer": "ipython3",
   "version": "3.10.7"
  }
 },
 "nbformat": 4,
 "nbformat_minor": 2
}
