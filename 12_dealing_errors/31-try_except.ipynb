{
 "cells": [
  {
   "cell_type": "code",
   "execution_count": null,
   "metadata": {},
   "outputs": [],
   "source": [
    "def divide(a,b):\n",
    "    return a/b\n",
    "    \n",
    "\n",
    "print(divide(1, 0))\n",
    "print(\"Código ejecutado satisfactoriamente.\")\n"
   ]
  },
  {
   "cell_type": "markdown",
   "metadata": {},
   "source": [
    "Este código recoge 2 argumentos y los divide. Sucede que si el segundo argumento es 0, habrá un error.\n",
    "Para que el código termine de ejecutarse por completo, pase lo que pase, usamos una excepción."
   ]
  },
  {
   "cell_type": "code",
   "execution_count": null,
   "metadata": {},
   "outputs": [],
   "source": [
    "def divide(a,b):\n",
    "    try:\n",
    "        return a/b\n",
    "    except:\n",
    "        return \"Has hecho una división por cero\"\n",
    "    \n",
    "\n",
    "print(divide(1, 0))\n",
    "print(\"Código ejecutado satisfactoriamente.\")"
   ]
  },
  {
   "cell_type": "markdown",
   "metadata": {},
   "source": [
    "Incluso podemos detallar qué error queremos exceptuar"
   ]
  },
  {
   "cell_type": "code",
   "execution_count": 1,
   "metadata": {},
   "outputs": [
    {
     "name": "stdout",
     "output_type": "stream",
     "text": [
      "Has hecho una división por cero\n",
      "Código ejecutado satisfactoriamente.\n"
     ]
    }
   ],
   "source": [
    "def divide(a,b):\n",
    "    try:\n",
    "        return a/b\n",
    "    except ZeroDivisionError:\n",
    "        return \"Has hecho una división por cero\"\n",
    "    \n",
    "\n",
    "print(divide(1, 0))\n",
    "print(\"Código ejecutado satisfactoriamente.\")"
   ]
  }
 ],
 "metadata": {
  "kernelspec": {
   "display_name": "Python 3",
   "language": "python",
   "name": "python3"
  },
  "language_info": {
   "codemirror_mode": {
    "name": "ipython",
    "version": 3
   },
   "file_extension": ".py",
   "mimetype": "text/x-python",
   "name": "python",
   "nbconvert_exporter": "python",
   "pygments_lexer": "ipython3",
   "version": "3.10.7"
  }
 },
 "nbformat": 4,
 "nbformat_minor": 2
}
