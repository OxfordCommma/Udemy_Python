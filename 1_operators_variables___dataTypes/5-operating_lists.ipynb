{
 "cells": [
  {
   "cell_type": "markdown",
   "metadata": {},
   "source": [
    "## Operaciones con Listas\n",
    "La idea no es ver la totalidad de atributos, pero para ello nos sirve usar \"dir\" para conocer las esenciales."
   ]
  },
  {
   "cell_type": "code",
   "execution_count": null,
   "metadata": {},
   "outputs": [],
   "source": [
    "dir(list)\n",
    "help(list.append)"
   ]
  },
  {
   "cell_type": "markdown",
   "metadata": {},
   "source": [
    "Entonces, vamos a probar algunos atributos."
   ]
  },
  {
   "cell_type": "markdown",
   "metadata": {},
   "source": [
    "### Agregar y limpiar listas, y buscar el índice (posición) de un elemento"
   ]
  },
  {
   "cell_type": "code",
   "execution_count": null,
   "metadata": {},
   "outputs": [],
   "source": [
    "monday_temperatures = [9.1, 8.8, 7.5]\n",
    "\n",
    "monday_temperatures.append(8.8)\n",
    "print(monday_temperatures)"
   ]
  },
  {
   "cell_type": "code",
   "execution_count": null,
   "metadata": {},
   "outputs": [],
   "source": [
    "workdays = [\"Mon\", \"Tue\", \"Wed\", \"Thu\", \"Fri\"]\n",
    "weekend = [\"Sat\", \"Sun\"]\n",
    "\n",
    "workdays.append(weekend[0])\n",
    "print(workdays)"
   ]
  },
  {
   "cell_type": "code",
   "execution_count": null,
   "metadata": {},
   "outputs": [],
   "source": [
    "monday_temperatures = [9.1, 8.8, 7.5, 8.8]\n",
    "\n",
    "monday_temperatures.clear()\n",
    "print(monday_temperatures)"
   ]
  },
  {
   "cell_type": "code",
   "execution_count": null,
   "metadata": {},
   "outputs": [],
   "source": [
    "monday_temperatures = [9.1, 8.8, 7.5, 8.8, 9.3]\n",
    "\n",
    "index1 = monday_temperatures.index(8.8)\n",
    "print(index1)\n",
    "\n",
    "# El parámetro 2 y 3 indican desde qué y hasta qué posición se tendrá en cuenta\n",
    "index2 = monday_temperatures.index(8.8, 2, 4)\n",
    "print(index2)"
   ]
  },
  {
   "cell_type": "markdown",
   "metadata": {},
   "source": [
    "### Remover elemento\n",
    "Funciona únicamente para un elemento a la vez"
   ]
  },
  {
   "cell_type": "code",
   "execution_count": null,
   "metadata": {},
   "outputs": [],
   "source": [
    "monday_temperatures = [9.1, 8.8, 7.5, 8.8, 9.3]\n",
    "\n",
    "monday_temperatures.remove(9.3)\n",
    "print(index1)"
   ]
  },
  {
   "cell_type": "markdown",
   "metadata": {},
   "source": [
    "### Hallar elemento usando su índice"
   ]
  },
  {
   "cell_type": "code",
   "execution_count": null,
   "metadata": {},
   "outputs": [],
   "source": [
    "monday_temperatures = [9.1, 8.8, 7.5, 8.8, 9.3]\n",
    "\n",
    "var1 = monday_temperatures.__getitem__(1)\n",
    "var2 = monday_temperatures[1] # El más usado\n",
    "\n",
    "print(var1, var2)"
   ]
  },
  {
   "cell_type": "markdown",
   "metadata": {},
   "source": [
    "### Acceder a pedazos de la lista, usando los índices\n",
    "La primer parte del [:] se respeta, la segunda no la toma en cuenta sino que toma en cuenta un índice menor."
   ]
  },
  {
   "cell_type": "code",
   "execution_count": null,
   "metadata": {},
   "outputs": [],
   "source": [
    "monday_temperatures = [9.1, 8.8, 7.5, 8.8, 9.3]\n",
    "\n",
    "print(\"Del 2ro al 4to\", monday_temperatures[1:4])\n",
    "\n",
    "print(\"Del 1ro al 2do\", monday_temperatures[0:2])\n",
    "print(\"Del 1ro al 2do, de otra forma\", monday_temperatures[:2])\n",
    "\n",
    "print(\"Del 4ro al 5to\", monday_temperatures[3:5])\n",
    "print(\"Del 4ro al 5to, de otra forma\", monday_temperatures[3:])"
   ]
  },
  {
   "cell_type": "markdown",
   "metadata": {},
   "source": [
    "### Acceder a pedazos de la lista, usando índices negativos\n",
    "Sigue la misma regla que antes. El conteo inicia desde la derecha y comienza con -1."
   ]
  },
  {
   "cell_type": "code",
   "execution_count": null,
   "metadata": {},
   "outputs": [],
   "source": [
    "monday_temperatures = [9.1, 8.8, 7.5, 8.8, 9.3]\n",
    "\n",
    "print(\"El último\", monday_temperatures[-1])\n",
    "print(\"El primero\", monday_temperatures[-5])\n",
    "\n",
    "print(\"Del penúltimo al último\", monday_temperatures[-2:])\n",
    "\n",
    "print(\"Del 2do al 3ro\", monday_temperatures[-4:-2])"
   ]
  },
  {
   "cell_type": "markdown",
   "metadata": {},
   "source": [
    "### Las cadenas (strings) también pueden funcionar como listas con índices"
   ]
  },
  {
   "cell_type": "code",
   "execution_count": null,
   "metadata": {},
   "outputs": [],
   "source": [
    "mystring = \"hello\"\n",
    "\n",
    "print(\"e: \", mystring[1])\n",
    "print(\"o: \", mystring[-1])\n",
    "print(\"hel: \", mystring[:3])\n",
    "\n",
    "mylist = [\"hello\", 1, 2, 3]\n",
    "\n",
    "print(mylist[0])\n",
    "print(\"h: \", mylist[0][0])\n",
    "print(\"ello: \", mylist[0][1:])"
   ]
  },
  {
   "cell_type": "markdown",
   "metadata": {},
   "source": [
    "### Acceder a elementos de un diccionario\n",
    "A diferencia de las listas, un diccionario no está indexado. La clave funciona como \"índice\". No está indexado debido a que, por su estructura, no tiene mucha utilidad. Es mas útil identificar claves que posiciones."
   ]
  },
  {
   "cell_type": "code",
   "execution_count": null,
   "metadata": {},
   "outputs": [],
   "source": [
    "student_grades = {\"Marry\" : 9.1, \"Sim\": 8.8, \"Jhon\" : 7.5}\n",
    "\n",
    "# student_grades[1] Error \n",
    "print(student_grades[\"Sim\"])"
   ]
  },
  {
   "cell_type": "markdown",
   "metadata": {},
   "source": [
    "## Conversiones entre tipos de datos complejos (y cadenas)"
   ]
  },
  {
   "cell_type": "code",
   "execution_count": 26,
   "metadata": {},
   "outputs": [
    {
     "name": "stdout",
     "output_type": "stream",
     "text": [
      "[1, 2, 3]\n"
     ]
    }
   ],
   "source": [
    "# De tupla a lista:\n",
    "\n",
    "cool_tuple = (1, 2, 3)\n",
    "cool_list = list(cool_tuple)\n",
    "print(cool_list)"
   ]
  },
  {
   "cell_type": "code",
   "execution_count": 27,
   "metadata": {},
   "outputs": [
    {
     "name": "stdout",
     "output_type": "stream",
     "text": [
      "(1, 2, 3)\n"
     ]
    }
   ],
   "source": [
    "# De lista a tupla\n",
    "\n",
    "cool_list = [1, 2, 3]\n",
    "cool_tuple = tuple(cool_list)\n",
    "print(cool_tuple)"
   ]
  },
  {
   "cell_type": "code",
   "execution_count": 28,
   "metadata": {},
   "outputs": [
    {
     "name": "stdout",
     "output_type": "stream",
     "text": [
      "['H', 'e', 'l', 'l', 'o']\n"
     ]
    }
   ],
   "source": [
    "# De cadena a lista:\n",
    "\n",
    "cool_string = \"Hello\"\n",
    "cool_list = list(cool_string)\n",
    "print(cool_list)"
   ]
  },
  {
   "cell_type": "code",
   "execution_count": 31,
   "metadata": {},
   "outputs": [
    {
     "name": "stdout",
     "output_type": "stream",
     "text": [
      "Hello\n"
     ]
    }
   ],
   "source": [
    "# De lista a cadena:\n",
    "\n",
    "cool_list = ['H', 'e', 'l', 'l', 'o']\n",
    "cool_string = str.join(\"\", cool_list)\n",
    "print(cool_string)"
   ]
  },
  {
   "cell_type": "markdown",
   "metadata": {},
   "source": []
  },
  {
   "cell_type": "code",
   "execution_count": 32,
   "metadata": {},
   "outputs": [
    {
     "data": {
      "text/plain": [
       "'k'"
      ]
     },
     "execution_count": 32,
     "metadata": {},
     "output_type": "execute_result"
    }
   ],
   "source": [
    "['abc' , 'def', 'ghi', 'jkl', 'mno'][-2][-2]"
   ]
  }
 ],
 "metadata": {
  "kernelspec": {
   "display_name": "Python 3",
   "language": "python",
   "name": "python3"
  },
  "language_info": {
   "codemirror_mode": {
    "name": "ipython",
    "version": 3
   },
   "file_extension": ".py",
   "mimetype": "text/x-python",
   "name": "python",
   "nbconvert_exporter": "python",
   "pygments_lexer": "ipython3",
   "version": "3.11.7"
  }
 },
 "nbformat": 4,
 "nbformat_minor": 2
}
