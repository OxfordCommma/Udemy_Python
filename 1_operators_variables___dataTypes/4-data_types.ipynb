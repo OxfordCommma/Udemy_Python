{
 "cells": [
  {
   "cell_type": "markdown",
   "metadata": {},
   "source": [
    "## Tipos de datos"
   ]
  },
  {
   "cell_type": "markdown",
   "metadata": {},
   "source": [
    "Python usa declaraciones implícitas a la hora de asignar variables"
   ]
  },
  {
   "cell_type": "code",
   "execution_count": null,
   "metadata": {},
   "outputs": [],
   "source": [
    "x = 10\n",
    "y = \"10\"\n",
    "z = 10.0\n",
    "\n",
    "sum1 = x + x\n",
    "sum2 = y + y\n",
    "\n",
    "print(sum1, sum2)"
   ]
  },
  {
   "cell_type": "markdown",
   "metadata": {},
   "source": [
    "Significa que debemos utilizar sabiamente los tipos de datos que queremos trabajar. Por ejemplo, para usar el tipo texto, debemos usar comillas dobles o simples \"\" o ''. Para números (enteros o decimales), no hace falta."
   ]
  },
  {
   "cell_type": "markdown",
   "metadata": {},
   "source": [
    "## Tipo de dato: las Listas\n",
    "Tipo de dato complejo, compuesto por diferentes objetos, que almacena objetos.<br><br>\n",
    "Estos objetos pueden ser de diferente tipo de dato, o de igual tipo de dato.<br><br>\n",
    "Vamos a representar las calificaciones de 3 estudiantes en una lista"
   ]
  },
  {
   "cell_type": "code",
   "execution_count": null,
   "metadata": {},
   "outputs": [],
   "source": [
    "student_grades = [9.2, 8.5, 7.9]"
   ]
  },
  {
   "cell_type": "markdown",
   "metadata": {},
   "source": [
    "### Algunas cosas interesantes que podemos hacer con listas\n",
    "1. Usar expresiones matemáticas"
   ]
  },
  {
   "cell_type": "code",
   "execution_count": null,
   "metadata": {},
   "outputs": [],
   "source": [
    "student_grades = [9, \"hello\", [2, 3, 4.11]]\n",
    "\n",
    "#1\n",
    "print(\"1\", student_grades * 3)\n",
    "\n",
    "#2\n",
    "print(\"2\", student_grades + student_grades)"
   ]
  },
  {
   "cell_type": "markdown",
   "metadata": {},
   "source": [
    "2. Usar la función range. Esta función agrupa un rango de números indicados.<br><br>\n",
    "Vamos a imprimir una lista de números del 1 al 10:"
   ]
  },
  {
   "cell_type": "code",
   "execution_count": null,
   "metadata": {},
   "outputs": [],
   "source": [
    "student_grades = list(range(0, 11))\n",
    "\n",
    "print(student_grades)\n",
    "\n",
    "student_grades2 = list(range(0, 11, 2)) #Con saltos de a 2\n",
    "\n",
    "print(student_grades2)"
   ]
  },
  {
   "cell_type": "markdown",
   "metadata": {},
   "source": [
    "## Atributos de los tipos de datos\n",
    "\n",
    "El problema (o beneficio) es que son muchos. Para ver todos los posibles atributos que tenemos para usar, debemos escribir:"
   ]
  },
  {
   "cell_type": "code",
   "execution_count": null,
   "metadata": {},
   "outputs": [],
   "source": [
    "dir(str)\n",
    "help(str.upper)\n",
    "\n",
    "\"hello\".upper()\n",
    "\n",
    "#Listado de funciones que se usan en muchos tipos de datos, no solo en uno.\n",
    "print(dir(__builtins__))"
   ]
  },
  {
   "cell_type": "markdown",
   "metadata": {},
   "source": [
    "Volviendo al ejemplo de la lista, quiero sacar el promedio de las notas. Para eso, utilizo diferentes atributos:"
   ]
  },
  {
   "cell_type": "code",
   "execution_count": null,
   "metadata": {},
   "outputs": [],
   "source": [
    "student_grades = [9.2, 8.5, 7.9]\n",
    "\n",
    "mysum = sum(student_grades)\n",
    "length = len(student_grades)\n",
    "mean = mysum / length\n",
    "\n",
    "print(mean)"
   ]
  },
  {
   "cell_type": "markdown",
   "metadata": {},
   "source": [
    "## Tipo de dato: los Diccionarios\n",
    "Se considera diccionario a un tipo de dato que contiene elementos, donde cada uno se compone por un par clave : valor (key : value)."
   ]
  },
  {
   "cell_type": "code",
   "execution_count": null,
   "metadata": {},
   "outputs": [],
   "source": [
    "dir(dict)"
   ]
  },
  {
   "cell_type": "code",
   "execution_count": null,
   "metadata": {},
   "outputs": [],
   "source": [
    "student_grades = {\"Mary\": 9.2, \"Sim\" : 8.5, \"John\" : 7.9}\n",
    "\n",
    "mysum = sum(student_grades.values())\n",
    "length = len(student_grades)\n",
    "mean = mysum / length\n",
    "\n",
    "print(mean)"
   ]
  },
  {
   "cell_type": "markdown",
   "metadata": {},
   "source": [
    "## Tipo de dato: las Tuplas\n",
    "\n",
    "A diferencia de los otros 2 tipos compuestos, estos son inmutables (no cambian su estructura, es decir, los elementos que la componen). Es interesante saber que se pueden usar cuando en el programa queremos que un objeto no cambie durante su ejecución."
   ]
  },
  {
   "cell_type": "code",
   "execution_count": null,
   "metadata": {},
   "outputs": [],
   "source": [
    "student_grades = (9.2, 8.5, 7.9)\n",
    "\n",
    "student_grades.append(5)"
   ]
  }
 ],
 "metadata": {
  "kernelspec": {
   "display_name": "Python 3",
   "language": "python",
   "name": "python3"
  },
  "language_info": {
   "codemirror_mode": {
    "name": "ipython",
    "version": 3
   },
   "file_extension": ".py",
   "mimetype": "text/x-python",
   "name": "python",
   "nbconvert_exporter": "python",
   "pygments_lexer": "ipython3",
   "version": "3.11.7"
  }
 },
 "nbformat": 4,
 "nbformat_minor": 2
}
