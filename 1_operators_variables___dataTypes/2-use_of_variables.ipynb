{
 "cells": [
  {
   "cell_type": "markdown",
   "metadata": {},
   "source": [
    "## Uso de variables, para tener una mejor lectura de los datos que usamos"
   ]
  },
  {
   "cell_type": "code",
   "execution_count": 2,
   "metadata": {},
   "outputs": [
    {
     "name": "stdout",
     "output_type": "stream",
     "text": [
      "20\n"
     ]
    }
   ],
   "source": [
    "items = 10\n",
    "price = 2\n",
    "\n",
    "total_price = items * price\n",
    "\n",
    "print(total_price)"
   ]
  },
  {
   "cell_type": "markdown",
   "metadata": {},
   "source": [
    "### Reglas a tener en cuenta\n",
    "\n",
    "1. No usar espacios entre palabras, es mejor usar \"_\" para separarlas\n",
    "2. No usar un número al principio del nombre de la variable (como \"1item\")\n",
    "3. Usar un espacio a ambos lados en la asignación de variables (item = 1) "
   ]
  },
  {
   "cell_type": "markdown",
   "metadata": {},
   "source": [
    "Otra cosa importante... todo es un Objeto:\n",
    "10 es un objeto, e \"items\" es el nombre que indica al objeto.\n",
    "Una variable funciona como un \"cubo\" que guarda objetos.\n",
    "Eso nos sirve para modificar y con ello trabajar fácilmente los valores de un \"cubo\" o una variable."
   ]
  },
  {
   "cell_type": "markdown",
   "metadata": {},
   "source": [
    "## Imprimir varias variables y uso de comentarios\n",
    "También es posible imprimir múltiples variables en una sola función de impresión usando comas entre las variables.<br>\n",
    "Puede agregar comentarios a su código comenzando con el símbolo #.\n"
   ]
  },
  {
   "cell_type": "code",
   "execution_count": 3,
   "metadata": {},
   "outputs": [
    {
     "name": "stdout",
     "output_type": "stream",
     "text": [
      "20 10 2\n"
     ]
    }
   ],
   "source": [
    "items = 10\n",
    "price = 2\n",
    "     \n",
    "total_price = items * price\n",
    "     \n",
    "# Below we print out three variables\n",
    "print(total_price, items, price) "
   ]
  }
 ],
 "metadata": {
  "kernelspec": {
   "display_name": "Python 3",
   "language": "python",
   "name": "python3"
  },
  "language_info": {
   "codemirror_mode": {
    "name": "ipython",
    "version": 3
   },
   "file_extension": ".py",
   "mimetype": "text/x-python",
   "name": "python",
   "nbconvert_exporter": "python",
   "pygments_lexer": "ipython3",
   "version": "3.10.7"
  }
 },
 "nbformat": 4,
 "nbformat_minor": 2
}
