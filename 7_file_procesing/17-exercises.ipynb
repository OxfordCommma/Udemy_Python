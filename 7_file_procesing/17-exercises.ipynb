{
 "cells": [
  {
   "cell_type": "markdown",
   "metadata": {},
   "source": [
    "Read the bear.txt file, and print out the first 90 characters of its content."
   ]
  },
  {
   "cell_type": "code",
   "execution_count": null,
   "metadata": {},
   "outputs": [],
   "source": [
    "with open(\"bear.txt\", \"r\") as my_file:\n",
    "    content = my_file.read()\n",
    "\n",
    "print(content[:90])"
   ]
  },
  {
   "cell_type": "markdown",
   "metadata": {},
   "source": [
    "Create a first.txt file that contains the first 90 characters of bear.txt.\n",
    "\n",
    "Note that you should read the content of bear.txt with Python, extract its first 90 characters with Python, and write those characters in first.txt with Python.\n",
    "\n",
    "-Versión 1 (Óptima)\n",
    "-Versión 2"
   ]
  },
  {
   "cell_type": "code",
   "execution_count": null,
   "metadata": {},
   "outputs": [],
   "source": [
    "with open(\"bear.txt\") as file:\n",
    "    content = file.read()\n",
    "\n",
    "with open(\"first.txt\", \"w\") as file:\n",
    "    file.write(content[:90])"
   ]
  },
  {
   "cell_type": "code",
   "execution_count": null,
   "metadata": {},
   "outputs": [],
   "source": [
    "def foo():\n",
    "    bear = open(\"bear.txt\")\n",
    "    content = bear.read()\n",
    "    return content[:90]\n",
    "\n",
    "with open(\"first.txt\", \"w\") as file:\n",
    "    file.write(foo())\n",
    "\n",
    "with open(\"first.txt\", \"r\") as file:\n",
    "    content_from_first = file.read()\n",
    "\n",
    "print(content_from_first)"
   ]
  },
  {
   "cell_type": "markdown",
   "metadata": {},
   "source": [
    "triplicar el contenido del texto que ya está en un archivo"
   ]
  },
  {
   "cell_type": "code",
   "execution_count": null,
   "metadata": {},
   "outputs": [],
   "source": [
    "with open(\"data.txt\", \"a+\") as file:\n",
    "    file.seek(0)\n",
    "    content = file.read()\n",
    "    \n",
    "    file.write(content * 2)\n",
    "    \n",
    "    file.seek(0)\n",
    "    content = file.read()\n",
    "\n",
    "print(content)"
   ]
  }
 ],
 "metadata": {
  "kernelspec": {
   "display_name": "Python 3",
   "language": "python",
   "name": "python3"
  },
  "language_info": {
   "codemirror_mode": {
    "name": "ipython",
    "version": 3
   },
   "file_extension": ".py",
   "mimetype": "text/x-python",
   "name": "python",
   "nbconvert_exporter": "python",
   "pygments_lexer": "ipython3",
   "version": "3.11.7"
  }
 },
 "nbformat": 4,
 "nbformat_minor": 2
}
