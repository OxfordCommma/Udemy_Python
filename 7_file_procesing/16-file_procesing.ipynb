{
 "cells": [
  {
   "cell_type": "markdown",
   "metadata": {},
   "source": [
    "## Procesamiento de archivos externos\n",
    "Hay veces que necesitamos guardar datos trabajados en python en un lado que no sea una variable temporal en la RAM. Por ello, es usual guardar información dentro de un archivo externo, que suele ser un .txt."
   ]
  },
  {
   "cell_type": "markdown",
   "metadata": {},
   "source": [
    "### Abrir y leer un archivo .txt"
   ]
  },
  {
   "cell_type": "code",
   "execution_count": null,
   "metadata": {},
   "outputs": [],
   "source": [
    "my_file = open(\"fruits.txt\")\n",
    "print(my_file.read())"
   ]
  },
  {
   "cell_type": "markdown",
   "metadata": {},
   "source": [
    "### Concepto de cursor y cómo imprimir múltiples veces el archivo\n",
    "Antes de ejecutar algún método, el cursor se halla al inicio del texto. Cuando se ejecuta la lectura, el cursor se halla al final del texto, haciendo que no se pueda volver a imprimir a menos que volvamos al inicio.<br><br>\n",
    "De todos modos, se puede volver a imprimir haciendo lo siguiente (guardando la función .read() dentro de una variable)"
   ]
  },
  {
   "cell_type": "code",
   "execution_count": null,
   "metadata": {},
   "outputs": [],
   "source": [
    "my_file = open(\"fruits.txt\")\n",
    "content = my_file.read()\n",
    "\n",
    "print(content)\n",
    "print(content)"
   ]
  },
  {
   "cell_type": "markdown",
   "metadata": {},
   "source": [
    "### Cerrar un archivo\n",
    "Luego de haber abierto y trabajado en un archivo, es buena práctica cerrarlo"
   ]
  },
  {
   "cell_type": "code",
   "execution_count": null,
   "metadata": {},
   "outputs": [],
   "source": [
    "my_file = open(\"fruits.txt\")\n",
    "content = my_file.read()\n",
    "my_file.close()\n",
    "\n",
    "print(content)"
   ]
  },
  {
   "cell_type": "markdown",
   "metadata": {},
   "source": [
    "### La mejor forma de abrir, leer y cerrar un archivo"
   ]
  },
  {
   "cell_type": "code",
   "execution_count": null,
   "metadata": {},
   "outputs": [],
   "source": [
    "with open(\"fruits.txt\") as my_file:\n",
    "    content = my_file.read()\n",
    "\n",
    "print(content)"
   ]
  },
  {
   "cell_type": "markdown",
   "metadata": {},
   "source": [
    "### Alcance de archivos externos en otro directorio"
   ]
  },
  {
   "cell_type": "code",
   "execution_count": null,
   "metadata": {},
   "outputs": [],
   "source": [
    "with open(\"files/fruits.txt\") as my_file:\n",
    "    content = my_file.read()\n",
    "\n",
    "print(content)"
   ]
  },
  {
   "cell_type": "markdown",
   "metadata": {},
   "source": [
    "### Escribir en un archivo externo\n",
    "Hay que tener en cuenta algunas cosas antes de hacerlo:\n",
    "- Si el nombre del archivo no existe, el script lo crea\n",
    "- Dependiendo del 2do parámetro, podemos leer \"r\" o escribir \"w\"\n",
    "- Si el archivo existe, al usar .write() podemos sobreescribir el archivo\n",
    "- Para escribir en varios renglones, podemos usar \"\\n\""
   ]
  },
  {
   "cell_type": "code",
   "execution_count": null,
   "metadata": {},
   "outputs": [],
   "source": [
    "with open(\"vegetables.txt\", \"w\") as my_file:\n",
    "    my_file.write(\"Tomato\\nCucumber\\nOnion\\n\")\n",
    "    my_file.write(\"Garlic\")\n"
   ]
  },
  {
   "cell_type": "markdown",
   "metadata": {},
   "source": [
    "### Adicionar texto a un archivo (agregar más texto)\n",
    "Sabemos que hay varios parámetros (\"r\", \"w\", etc.), y para adicionar más texto se usa \"a\". Si además de eso queremos leer, debemos usar el signo \"+\".\n",
    "\n",
    "Con \"a\", el puntero se posiciona al final del texto."
   ]
  },
  {
   "cell_type": "code",
   "execution_count": null,
   "metadata": {},
   "outputs": [],
   "source": [
    "with open(\"fruits.txt\", \"a+\") as my_file:\n",
    "    my_file.write(\"\\nOkra\")\n",
    "\n",
    "    my_file.seek(0) #para apuntar al inicio del texto\n",
    "\n",
    "    content = my_file.read()\n",
    "\n",
    "print(content)"
   ]
  },
  {
   "cell_type": "markdown",
   "metadata": {},
   "source": [
    "Otro ejemplo, en donde agrego el texto de \"bear1.txt\" a \"bear2.txt\""
   ]
  },
  {
   "cell_type": "code",
   "execution_count": null,
   "metadata": {},
   "outputs": [],
   "source": [
    "with open(\"bear1.txt\") as file:\n",
    "    content = file.read()\n",
    "\n",
    "with open(\"bear2.txt\", \"a\") as file:\n",
    "    file.write(content)"
   ]
  }
 ],
 "metadata": {
  "kernelspec": {
   "display_name": "Python 3",
   "language": "python",
   "name": "python3"
  },
  "language_info": {
   "codemirror_mode": {
    "name": "ipython",
    "version": 3
   },
   "file_extension": ".py",
   "mimetype": "text/x-python",
   "name": "python",
   "nbconvert_exporter": "python",
   "pygments_lexer": "ipython3",
   "version": "3.11.7"
  }
 },
 "nbformat": 4,
 "nbformat_minor": 2
}
