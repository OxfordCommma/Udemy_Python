{
 "cells": [
  {
   "cell_type": "markdown",
   "metadata": {},
   "source": [
    "## Funciones con múltiples parámetros\n",
    "Primero aclaremos algo...\n",
    "- Parámetro: refiere a la/s variable/s que usaremos al definir la función\n",
    "- Argumento: refiere a la/S variables que se usan al invocar la función <br><br>\n",
    "\n",
    "Entonces, ahora veremos como creamos una función con múltiples parámetros."
   ]
  },
  {
   "cell_type": "code",
   "execution_count": null,
   "metadata": {},
   "outputs": [],
   "source": [
    "def area(a, b):\n",
    "    return a * b\n",
    "\n",
    "print(area(5, 10))"
   ]
  },
  {
   "cell_type": "markdown",
   "metadata": {},
   "source": [
    "Otro ejemplo"
   ]
  },
  {
   "cell_type": "code",
   "execution_count": null,
   "metadata": {},
   "outputs": [],
   "source": [
    "def foo(s1, s2):\n",
    "    return s1 + s2\n",
    "\n",
    "print(foo(\"he\", \"llo\"))"
   ]
  },
  {
   "cell_type": "markdown",
   "metadata": {},
   "source": [
    "### Argumentos posicionales\n",
    "\n",
    "En el uso de argumentos, la posición no importa, si es que utilizamos argumentos posicionales (indicando al argumento a que parámetro pertenece)"
   ]
  },
  {
   "cell_type": "code",
   "execution_count": null,
   "metadata": {},
   "outputs": [],
   "source": [
    "def foo(p1, p2):\n",
    "    return p1 + p2\n",
    "\n",
    "print(foo(p2 = 1, p1 = 2)) #use of keyword arguments"
   ]
  },
  {
   "cell_type": "markdown",
   "metadata": {},
   "source": [
    "### Parámetros por defecto\n",
    "Parámetros que cuentan con un valor por defecto. No hace falta especificar su valor, que igualmente nos lo permite."
   ]
  },
  {
   "cell_type": "code",
   "execution_count": null,
   "metadata": {},
   "outputs": [],
   "source": [
    "def area(a, b = 5):\n",
    "    return a * b\n",
    "\n",
    "print(area(5))\n",
    "\n",
    "print(area(a = 4))\n",
    "\n",
    "print(area(4, b = 3))"
   ]
  },
  {
   "cell_type": "markdown",
   "metadata": {},
   "source": [
    "Una función nunca tiene que tener un parámetro por defecto antes que otro que no está por defecto."
   ]
  },
  {
   "cell_type": "code",
   "execution_count": null,
   "metadata": {},
   "outputs": [],
   "source": [
    "def area(a = 5, b):\n",
    "    return a * b\n",
    "\n",
    "print(area(5))"
   ]
  }
 ],
 "metadata": {
  "kernelspec": {
   "display_name": "Python 3",
   "language": "python",
   "name": "python3"
  },
  "language_info": {
   "codemirror_mode": {
    "name": "ipython",
    "version": 3
   },
   "file_extension": ".py",
   "mimetype": "text/x-python",
   "name": "python",
   "nbconvert_exporter": "python",
   "pygments_lexer": "ipython3",
   "version": "3.11.7"
  }
 },
 "nbformat": 4,
 "nbformat_minor": 2
}
