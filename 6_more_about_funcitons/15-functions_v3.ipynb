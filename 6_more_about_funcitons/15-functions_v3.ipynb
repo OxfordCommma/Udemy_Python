{
 "cells": [
  {
   "cell_type": "markdown",
   "metadata": {},
   "source": [
    "## Funciones con cantidad de parámetros indefinidos\n",
    "Hay funciones que aceptan un sólo argumento (len), dos o varios, pero no infinitos o indefinidos. Pero se pueden formar utilizando una palabra clave"
   ]
  },
  {
   "cell_type": "code",
   "execution_count": 1,
   "metadata": {},
   "outputs": [
    {
     "name": "stdout",
     "output_type": "stream",
     "text": [
      "(1, 4, 'a', 6)\n"
     ]
    }
   ],
   "source": [
    "def mean (*args): # * mas la palabra que quieras, pero \"args\" es la más común\n",
    "    return args\n",
    "\n",
    "print(mean(1, 4, \"a\", 6))"
   ]
  },
  {
   "cell_type": "markdown",
   "metadata": {},
   "source": [
    "Como vemos, *args reúne a todos los argumentos en una Tupla. Entonces se pueden trabajar con ciertas funciones que ya conocemos"
   ]
  },
  {
   "cell_type": "code",
   "execution_count": 2,
   "metadata": {},
   "outputs": [
    {
     "name": "stdout",
     "output_type": "stream",
     "text": [
      "3.6666666666666665\n"
     ]
    }
   ],
   "source": [
    "def mean (*args): # * mas la palabra que quieras, pero \"args\" es la más común\n",
    "    return sum(args) / len(args)\n",
    "\n",
    "print(mean(1, 4, 6))"
   ]
  },
  {
   "cell_type": "markdown",
   "metadata": {},
   "source": [
    "Función que toma una cantidad indefinida de cadenas como parámetros y devuelve una lista con ellas, pero estarán en mayúscula y la lista en orden alfabético"
   ]
  },
  {
   "cell_type": "code",
   "execution_count": null,
   "metadata": {},
   "outputs": [],
   "source": [
    "def foo(*args):\n",
    "    args = [x.upper() for x in args]\n",
    "    return sorted(args)"
   ]
  },
  {
   "cell_type": "markdown",
   "metadata": {},
   "source": [
    "#### Función con cantida de parámetros indefinidos, que conforma un diccionario"
   ]
  },
  {
   "cell_type": "code",
   "execution_count": 3,
   "metadata": {},
   "outputs": [
    {
     "name": "stdout",
     "output_type": "stream",
     "text": [
      "{'a': 1, 'b': 2, 'c': 3}\n"
     ]
    }
   ],
   "source": [
    "def mean(**kwargs):\n",
    "    return kwargs\n",
    "\n",
    "print(mean(a = 1, b = 2, c = 3))"
   ]
  },
  {
   "cell_type": "code",
   "execution_count": null,
   "metadata": {},
   "outputs": [],
   "source": [
    "def find_sum(**kwargs):\n",
    "    return sum(kwargs.values())\n",
    "    \n",
    "print(find_sum(x=1, y=2, z=6))"
   ]
  }
 ],
 "metadata": {
  "kernelspec": {
   "display_name": "Python 3",
   "language": "python",
   "name": "python3"
  },
  "language_info": {
   "codemirror_mode": {
    "name": "ipython",
    "version": 3
   },
   "file_extension": ".py",
   "mimetype": "text/x-python",
   "name": "python",
   "nbconvert_exporter": "python",
   "pygments_lexer": "ipython3",
   "version": "3.11.7"
  }
 },
 "nbformat": 4,
 "nbformat_minor": 2
}
